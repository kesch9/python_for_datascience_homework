{
 "cells": [
  {
   "cell_type": "code",
   "execution_count": 2,
   "metadata": {},
   "outputs": [],
   "source": [
    "import numpy as np\n",
    "%matplotlib inline\n",
    "import matplotlib.pyplot as plt"
   ]
  },
  {
   "cell_type": "markdown",
   "metadata": {},
   "source": [
    "### Задания к уроку 4"
   ]
  },
  {
   "cell_type": "markdown",
   "metadata": {},
   "source": [
    "### 1.\n",
    "Напишите код, моделирующий выпадение поля в рулетке (с учетом поля зеро)."
   ]
  },
  {
   "cell_type": "code",
   "execution_count": 3,
   "metadata": {},
   "outputs": [
    {
     "name": "stdout",
     "output_type": "stream",
     "text": [
      "Zero!!\n"
     ]
    }
   ],
   "source": [
    "while(True):\n",
    "    x = np.random.randint(36)\n",
    "    if x == 0:\n",
    "        print(\"Zero!!\")\n",
    "        break\n",
    "        "
   ]
  },
  {
   "cell_type": "markdown",
   "metadata": {},
   "source": [
    "### 2.\n",
    "1. Напишите код, проверяющий любую из теорем сложения или умножения вероятности на примере рулетки или подбрасывания монетки.\n",
    "2. Сгенерируйте десять выборок случайных чисел х0, …, х9 и постройте гистограмму распределения случайной суммы х0+х1+ …+ х9."
   ]
  },
  {
   "cell_type": "code",
   "execution_count": 37,
   "metadata": {},
   "outputs": [
    {
     "name": "stdout",
     "output_type": "stream",
     "text": [
      "6 4\n",
      "1.0\n"
     ]
    }
   ],
   "source": [
    "k,m = 0,0\n",
    "n=10\n",
    "for i in range(n):\n",
    "    x = np.random.uniform(0,10)\n",
    "    if x < 5:\n",
    "        k += 1\n",
    "    else:\n",
    "        m += 1\n",
    "print(k,m)\n",
    "print((0.5*k/n + 0.5*m/n)*2)"
   ]
  },
  {
   "cell_type": "code",
   "execution_count": 38,
   "metadata": {},
   "outputs": [
    {
     "name": "stdout",
     "output_type": "stream",
     "text": [
      "[415, 438, 417, 424, 634, 641, 418, 307, 528, 592]\n"
     ]
    },
    {
     "data": {
      "image/png": "[encoded data removed]",
      "text/plain": [
       "<Figure size 432x288 with 1 Axes>"
      ]
     },
     "metadata": {
      "needs_background": "light"
     },
     "output_type": "display_data"
    }
   ],
   "source": [
    "sum1 = []\n",
    "for i in range(0,10):\n",
    "    x = np.random.randint(0,100,10)\n",
    "    sum1.append(np.sum(x))\n",
    "num_bins = 10\n",
    "print(sum1)\n",
    "plt.hist(sum1,num_bins)\n",
    "plt.xlabel('sum')\n",
    "plt.ylabel('Probability')\n",
    "plt.show()"
   ]
  },
  {
   "cell_type": "markdown",
   "metadata": {},
   "source": [
    "### 3.\n",
    "1. Дополните код Монте-Карло последовательности независимых испытаний расчетом соответствующих вероятностей (через биномиальное распределение) \n",
    "и сравните результаты.\n",
    "2. Повторите расчеты биномиальных коэффициентов и вероятностей k успехов в последовательности из n независимых испытаний, взяв другие значения n и k.\n"
   ]
  },
  {
   "cell_type": "code",
   "execution_count": 82,
   "metadata": {},
   "outputs": [
    {
     "name": "stdout",
     "output_type": "stream",
     "text": [
      "375 1000 0.375\n",
      "Формула Бернули\n",
      "0.375\n"
     ]
    }
   ],
   "source": [
    "k,n = 0,1000\n",
    "a = np.random.randint(0,2,n)\n",
    "b = np.random.randint(0,2,n)\n",
    "c = np.random.randint(0,2,n)\n",
    "d = np.random.randint(0,2,n)\n",
    "x = a + b + c + d\n",
    "l = 2\n",
    "for i in range (0, n):\n",
    "    if x[i] == 2:\n",
    "        k = k + 1\n",
    "print(k,n,k/n)\n",
    "print('Формула Бернули')\n",
    "print((np.math.factorial(4)/(np.math.factorial(2)*np.math.factorial(2)))*(1/2**4))"
   ]
  },
  {
   "cell_type": "code",
   "execution_count": 83,
   "metadata": {},
   "outputs": [
    {
     "name": "stdout",
     "output_type": "stream",
     "text": [
      "239 1000 0.239\n",
      "Формула Бернули\n",
      "0.234375\n"
     ]
    }
   ],
   "source": [
    "k,n = 0,1000\n",
    "a = np.random.randint(0,2,n)\n",
    "b = np.random.randint(0,2,n)\n",
    "c = np.random.randint(0,2,n)\n",
    "d = np.random.randint(0,2,n)\n",
    "e = np.random.randint(0,2,n)\n",
    "f = np.random.randint(0,2,n)\n",
    "x = a + b + c + d + e + f\n",
    "l = 2\n",
    "for i in range (0, n):\n",
    "    if x[i] == 2:\n",
    "        k = k + 1\n",
    "print(k,n,k/n)\n",
    "print('Формула Бернули')\n",
    "print((np.math.factorial(6)/(np.math.factorial(2)*np.math.factorial(4)))*(1/2**6))"
   ]
  },
  {
   "cell_type": "markdown",
   "metadata": {},
   "source": [
    "### 4. \n",
    "Из урока по комбинаторике повторите расчеты, сгенерировав возможные варианты перестановок для других значений n и k"
   ]
  },
  {
   "cell_type": "code",
   "execution_count": 86,
   "metadata": {},
   "outputs": [],
   "source": [
    "import itertools "
   ]
  },
  {
   "cell_type": "code",
   "execution_count": 101,
   "metadata": {},
   "outputs": [
    {
     "name": "stdout",
     "output_type": "stream",
     "text": [
      "0\n",
      "1\n",
      "2\n",
      "3\n",
      "4\n",
      "5\n",
      "6\n"
     ]
    }
   ],
   "source": [
    "for p in itertools.permutations(\"0123456\",1):\n",
    "    print(''.join(str(x) for x in p))"
   ]
  },
  {
   "cell_type": "code",
   "execution_count": 99,
   "metadata": {},
   "outputs": [
    {
     "name": "stdout",
     "output_type": "stream",
     "text": [
      "01234\n",
      "01235\n",
      "01236\n",
      "01245\n",
      "01246\n",
      "01256\n",
      "01345\n",
      "01346\n",
      "01356\n",
      "01456\n",
      "02345\n",
      "02346\n",
      "02356\n",
      "02456\n",
      "03456\n",
      "12345\n",
      "12346\n",
      "12356\n",
      "12456\n",
      "13456\n",
      "23456\n"
     ]
    }
   ],
   "source": [
    "for p in itertools.combinations(\"0123456\",5):\n",
    "    print(''.join(str(x) for x in p))"
   ]
  },
  {
   "cell_type": "code",
   "execution_count": 97,
   "metadata": {},
   "outputs": [
    {
     "name": "stdout",
     "output_type": "stream",
     "text": [
      "00\n",
      "01\n",
      "02\n",
      "10\n",
      "11\n",
      "12\n",
      "20\n",
      "21\n",
      "22\n"
     ]
    }
   ],
   "source": [
    "for p in itertools.product(\"012\",repeat=2):\n",
    "    print(''.join(str(x) for x in p))"
   ]
  },
  {
   "cell_type": "markdown",
   "metadata": {},
   "source": [
    "### 5. \n",
    "Дополните код расчетом коэффициента корреляции x и y по формуле"
   ]
  },
  {
   "cell_type": "code",
   "execution_count": 103,
   "metadata": {},
   "outputs": [
    {
     "data": {
      "image/png": "[encoded data removed]",
      "text/plain": [
       "<Figure size 432x288 with 1 Axes>"
      ]
     },
     "metadata": {
      "needs_background": "light"
     },
     "output_type": "display_data"
    }
   ],
   "source": [
    "n = 100\n",
    "r = 0.7\n",
    "x = np.random.rand(n)\n",
    "y = r*x + (1 - r)*np.random.rand(n)\n",
    "plt.plot(x,y,'o')\n",
    "plt.grid(True)\n",
    "plt.show()"
   ]
  },
  {
   "cell_type": "markdown",
   "metadata": {},
   "source": [
    "С помощью питона"
   ]
  },
  {
   "cell_type": "code",
   "execution_count": 105,
   "metadata": {},
   "outputs": [],
   "source": [
    "VAL = np.vstack((x, y))"
   ]
  },
  {
   "cell_type": "code",
   "execution_count": 107,
   "metadata": {},
   "outputs": [
    {
     "data": {
      "text/plain": [
       "array([[1.        , 0.93225167],\n",
       "       [0.93225167, 1.        ]])"
      ]
     },
     "execution_count": 107,
     "metadata": {},
     "output_type": "execute_result"
    }
   ],
   "source": [
    "R_xy = np.corrcoef(VAL)\n",
    "R_xy"
   ]
  },
  {
   "cell_type": "markdown",
   "metadata": {},
   "source": [
    "По формуле"
   ]
  },
  {
   "cell_type": "code",
   "execution_count": 108,
   "metadata": {},
   "outputs": [
    {
     "name": "stdout",
     "output_type": "stream",
     "text": [
      "0.506266333218177 0.49891436666001604\n"
     ]
    }
   ],
   "source": [
    "xm = np.sum(x)/n\n",
    "ym = np.sum(y)/n\n",
    "print(xm,ym)"
   ]
  },
  {
   "cell_type": "code",
   "execution_count": 109,
   "metadata": {},
   "outputs": [
    {
     "name": "stdout",
     "output_type": "stream",
     "text": [
      "0.9322516702549961\n"
     ]
    }
   ],
   "source": [
    "znam = 0\n",
    "a = 0\n",
    "b = 0\n",
    "for i in range(0,n):\n",
    "    znam += (x[i]- xm)*(y[i]-ym)\n",
    "    a += (x[i]- xm)*(x[i]- xm)\n",
    "    b += (y[i]-ym)*(y[i]-ym)\n",
    "print(znam/np.sqrt(a*b))"
   ]
  },
  {
   "cell_type": "code",
   "execution_count": null,
   "metadata": {},
   "outputs": [],
   "source": []
  }
 ],
 "metadata": {
  "kernelspec": {
   "display_name": "Python 3",
   "language": "python",
   "name": "python3"
  }
 },
 "nbformat": 4,
 "nbformat_minor": 2
}
